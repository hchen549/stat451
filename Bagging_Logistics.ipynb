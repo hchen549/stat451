{
 "cells": [
  {
   "cell_type": "markdown",
   "metadata": {},
   "source": [
    "## Preparation"
   ]
  },
  {
   "cell_type": "code",
   "execution_count": 2,
   "metadata": {},
   "outputs": [
    {
     "name": "stderr",
     "output_type": "stream",
     "text": [
      "[nltk_data] Downloading package stopwords to\n",
      "[nltk_data]     C:\\Users\\asus\\AppData\\Roaming\\nltk_data...\n",
      "[nltk_data]   Package stopwords is already up-to-date!\n",
      "[nltk_data] Downloading package wordnet to\n",
      "[nltk_data]     C:\\Users\\asus\\AppData\\Roaming\\nltk_data...\n",
      "[nltk_data]   Package wordnet is already up-to-date!\n"
     ]
    },
    {
     "data": {
      "text/plain": [
       "True"
      ]
     },
     "execution_count": 2,
     "metadata": {},
     "output_type": "execute_result"
    }
   ],
   "source": [
    "import pandas as pd\n",
    "import numpy as np\n",
    "import matplotlib.pyplot as plt\n",
    "import os\n",
    "import seaborn as sns\n",
    "import nltk\n",
    "\n",
    "from sklearn.feature_extraction.text import CountVectorizer\n",
    "from sklearn.feature_extraction.text import TfidfVectorizer\n",
    "from sklearn.preprocessing import LabelBinarizer\n",
    "from nltk.corpus import stopwords\n",
    "from nltk.stem.porter import PorterStemmer\n",
    "from nltk.stem import WordNetLemmatizer \n",
    "from nltk.tokenize import word_tokenize,sent_tokenize\n",
    "from bs4 import BeautifulSoup\n",
    "from wordcloud import WordCloud,STOPWORDS\n",
    "\n",
    "# import spacy\n",
    "import re,string,unicodedata\n",
    "from nltk.tokenize.toktok import ToktokTokenizer\n",
    "from nltk.stem import LancasterStemmer\n",
    "nltk.download('stopwords')\n",
    "nltk.download('wordnet')"
   ]
  },
  {
   "cell_type": "markdown",
   "metadata": {},
   "source": [
    "## Model Training"
   ]
  },
  {
   "cell_type": "markdown",
   "metadata": {},
   "source": [
    "#### Train Test Split"
   ]
  },
  {
   "cell_type": "code",
   "execution_count": 3,
   "metadata": {},
   "outputs": [
    {
     "data": {
      "text/plain": [
       "<50000x70847 sparse matrix of type '<class 'numpy.int64'>'\n",
       "\twith 4637943 stored elements in Compressed Sparse Row format>"
      ]
     },
     "execution_count": 3,
     "metadata": {},
     "output_type": "execute_result"
    }
   ],
   "source": [
    "# Read Processed Comments:\n",
    "from scipy.sparse import csr_matrix\n",
    "def load_sparse_csr(filename):\n",
    "    # here we need to add .npz extension manually\n",
    "    loader = np.load(filename + '.npz')\n",
    "    return csr_matrix((loader['data'], loader['indices'], loader['indptr']),\n",
    "                      shape=loader['shape'])\n",
    "X = load_sparse_csr('word_count')\n",
    "X"
   ]
  },
  {
   "cell_type": "code",
   "execution_count": 4,
   "metadata": {},
   "outputs": [],
   "source": [
    "# train_test_split\n",
    "from sklearn.model_selection import train_test_split\n",
    "y = pd.read_csv('sentiment', header=None).to_numpy().flatten()\n",
    "\n",
    "#y must be a dense vector\n",
    "X_train,X_test,y_train,y_test = train_test_split(X,y,test_size=0.3,stratify=y,random_state = 1) "
   ]
  },
  {
   "cell_type": "markdown",
   "metadata": {},
   "source": [
    "#### Logistic Regression with Bagging"
   ]
  },
  {
   "cell_type": "code",
   "execution_count": 9,
   "metadata": {},
   "outputs": [],
   "source": [
    "# Logistic Regression\n",
    "from sklearn.linear_model import LogisticRegression\n",
    "from sklearn.ensemble import BaggingClassifier\n",
    "clf = BaggingClassifier(LogisticRegression(max_iter = 10000),n_estimators=30,random_state=1)"
   ]
  },
  {
   "cell_type": "code",
   "execution_count": 10,
   "metadata": {},
   "outputs": [
    {
     "data": {
      "text/plain": [
       "BaggingClassifier(base_estimator=LogisticRegression(max_iter=10000),\n",
       "                  n_estimators=30, random_state=1)"
      ]
     },
     "execution_count": 10,
     "metadata": {},
     "output_type": "execute_result"
    }
   ],
   "source": [
    "clf.fit(X_train, y_train)"
   ]
  },
  {
   "cell_type": "code",
   "execution_count": 11,
   "metadata": {},
   "outputs": [],
   "source": [
    "# predict labels for the test set\n",
    "y_predict = clf.predict(X_test)"
   ]
  },
  {
   "cell_type": "code",
   "execution_count": 12,
   "metadata": {},
   "outputs": [
    {
     "data": {
      "text/plain": [
       "0.8860666666666667"
      ]
     },
     "execution_count": 12,
     "metadata": {},
     "output_type": "execute_result"
    }
   ],
   "source": [
    "# Compute accuracy\n",
    "np.mean(y_test == y_predict)"
   ]
  },
  {
   "cell_type": "code",
   "execution_count": 13,
   "metadata": {},
   "outputs": [],
   "source": [
    "np.savetxt('y_predict_log30', y_predict, delimiter=',')"
   ]
  },
  {
   "cell_type": "code",
   "execution_count": 14,
   "metadata": {},
   "outputs": [
    {
     "name": "stdout",
     "output_type": "stream",
     "text": [
      "0.8846666666666667\n"
     ]
    }
   ],
   "source": [
    "clf2 = BaggingClassifier(LogisticRegression(max_iter = 10000),n_estimators=10,random_state=1)\n",
    "clf2.fit(X_train, y_train)\n",
    "y_predict2 = clf2.predict(X_test)\n",
    "print(np.mean(y_test == y_predict2))\n",
    "np.savetxt('y_predict_log10', y_predict2, delimiter=',')"
   ]
  },
  {
   "cell_type": "code",
   "execution_count": 15,
   "metadata": {},
   "outputs": [
    {
     "name": "stdout",
     "output_type": "stream",
     "text": [
      "0.8854666666666666\n"
     ]
    }
   ],
   "source": [
    "clf3 = BaggingClassifier(LogisticRegression(max_iter = 10000),n_estimators=20,random_state=1)\n",
    "clf3.fit(X_train, y_train)\n",
    "y_predict3 = clf3.predict(X_test)\n",
    "print(np.mean(y_test == y_predict3))\n",
    "np.savetxt('y_predict_log20', y_predict3, delimiter=',')"
   ]
  },
  {
   "cell_type": "code",
   "execution_count": 19,
   "metadata": {},
   "outputs": [
    {
     "name": "stdout",
     "output_type": "stream",
     "text": [
      "0.8859333333333334\n"
     ]
    }
   ],
   "source": [
    "clf4 = BaggingClassifier(LogisticRegression(max_iter = 10000),n_estimators=40,random_state=1)\n",
    "clf4.fit(X_train, y_train)\n",
    "y_predict4 = clf4.predict(X_test)\n",
    "print(np.mean(y_test == y_predict4))\n",
    "np.savetxt('y_predict_log40', y_predict4, delimiter=',')"
   ]
  },
  {
   "cell_type": "code",
   "execution_count": 20,
   "metadata": {},
   "outputs": [
    {
     "name": "stdout",
     "output_type": "stream",
     "text": [
      "0.8867333333333334\n"
     ]
    }
   ],
   "source": [
    "clf5 = BaggingClassifier(LogisticRegression(max_iter = 10000),n_estimators=50,random_state=1)\n",
    "clf5.fit(X_train, y_train)\n",
    "y_predict5 = clf5.predict(X_test)\n",
    "print(np.mean(y_test == y_predict5))\n",
    "np.savetxt('y_predict_log50', y_predict5, delimiter=',')"
   ]
  },
  {
   "cell_type": "code",
   "execution_count": 18,
   "metadata": {},
   "outputs": [
    {
     "name": "stdout",
     "output_type": "stream",
     "text": [
      "0.8858666666666667\n"
     ]
    }
   ],
   "source": [
    "clf6 = BaggingClassifier(LogisticRegression(max_iter = 10000),n_estimators=60,random_state=1)\n",
    "clf6.fit(X_train, y_train)\n",
    "y_predict6 = clf6.predict(X_test)\n",
    "print(np.mean(y_test == y_predict6))\n",
    "np.savetxt('y_predict_log60', y_predict6, delimiter=',')"
   ]
  },
  {
   "cell_type": "code",
   "execution_count": 38,
   "metadata": {},
   "outputs": [
    {
     "name": "stdout",
     "output_type": "stream",
     "text": [
      "0.887\n"
     ]
    }
   ],
   "source": [
    "clf7 = BaggingClassifier(LogisticRegression(max_iter = 10000),n_estimators=70,random_state=1)\n",
    "clf7.fit(X_train, y_train)\n",
    "y_predict7 = clf7.predict(X_test)\n",
    "print(np.mean(y_test == y_predict7))\n",
    "np.savetxt('y_predict_log70', y_predict7, delimiter=',')"
   ]
  },
  {
   "cell_type": "code",
   "execution_count": 47,
   "metadata": {},
   "outputs": [
    {
     "name": "stdout",
     "output_type": "stream",
     "text": [
      "0.8868\n"
     ]
    }
   ],
   "source": [
    "clf8 = BaggingClassifier(LogisticRegression(max_iter = 10000),n_estimators=80,random_state=1)\n",
    "clf8.fit(X_train, y_train)\n",
    "y_predict8 = clf8.predict(X_test)\n",
    "print(np.mean(y_test == y_predict8))\n",
    "np.savetxt('y_predict_log80', y_predict8, delimiter=',')"
   ]
  },
  {
   "cell_type": "code",
   "execution_count": 48,
   "metadata": {},
   "outputs": [],
   "source": [
    "import matplotlib.pyplot as plt\n",
    "acc = np.mean(y_test == np.loadtxt('y_predict_logistic'))\n",
    "acc10 = np.mean(y_test == y_predict2)\n",
    "acc20 = np.mean(y_test == y_predict3)\n",
    "acc30 = np.mean(y_test == y_predict)\n",
    "acc40 = np.mean(y_test == y_predict4)\n",
    "acc50 = np.mean(y_test == y_predict5)\n",
    "acc60 = np.mean(y_test == y_predict6)\n",
    "acc70 = np.mean(y_test == y_predict7)\n",
    "acc80 = np.mean(y_test == y_predict8)\n",
    "\n",
    "x = np.arange(0,90,10)\n",
    "y = np.array([acc,acc10,acc20,acc30,acc40,acc50,acc60,acc70,acc80])"
   ]
  },
  {
   "cell_type": "code",
   "execution_count": 52,
   "metadata": {},
   "outputs": [
    {
     "data": {
      "image/png": "[encoded data removed]",
      "text/plain": [
       "<Figure size 432x288 with 1 Axes>"
      ]
     },
     "metadata": {
      "needs_background": "light"
     },
     "output_type": "display_data"
    }
   ],
   "source": [
    "plt.plot(x,y,'r--')\n",
    "plt.title(\"Test accuracy vs Bagging size\")\n",
    "plt.xlabel(\"The number of bootstrap logistic estimators (0=no bagging)\")\n",
    "plt.ylabel(\"Test accuracy\")\n",
    "plt.savefig(\"Logistic_bagging\")"
   ]
  },
  {
   "cell_type": "code",
   "execution_count": 59,
   "metadata": {},
   "outputs": [],
   "source": [
    "from mlxtend.plotting import plot_confusion_matrix\n",
    "\n",
    "y_raw = np.loadtxt('y_predict_logistic')\n",
    "tn, fp, fn, tp = 0,0,0,0\n",
    "for i in range(len(y_raw)):\n",
    "    if y_raw[i] == y_predict8[i] and y_raw[i] == y_test[i]:\n",
    "        tp += 1\n",
    "    elif y_raw[i] == y_predict8[i] and y_raw[i] != y_test[i]:\n",
    "        tn += 1\n",
    "    elif y_raw[i] != y_predict8[i] and y_raw[i] == y_test[i]:\n",
    "        fn += 1\n",
    "    elif y_raw[i] != y_predict8[i] and y_raw[i] != y_test[i]:\n",
    "        fp += 1   "
   ]
  },
  {
   "cell_type": "code",
   "execution_count": 62,
   "metadata": {},
   "outputs": [
    {
     "name": "stdout",
     "output_type": "stream",
     "text": [
      "(1567, 221, 131, 13081)\n"
     ]
    },
    {
     "data": {
      "image/png": "[encoded data removed]",
      "text/plain": [
       "<Figure size 432x288 with 2 Axes>"
      ]
     },
     "metadata": {
      "needs_background": "light"
     },
     "output_type": "display_data"
    }
   ],
   "source": [
    "print(str((tn, fp, fn, tp)))\n",
    "\n",
    "cm = np.array([[tn,fp],\n",
    "              [fn, tp]])\n",
    "\n",
    "fig, ax = plot_confusion_matrix(conf_mat = cm,\n",
    "                                show_absolute=True,\n",
    "                                show_normed = True,\n",
    "                                colorbar = True)\n",
    "plt.xlabel('Bagging with 80 bootstrap models')\n",
    "plt.ylabel('Logistic regression without bagging')\n",
    "plt.savefig('McNemar')\n",
    "plt.show()"
   ]
  }
 ],
 "metadata": {
  "kernelspec": {
   "display_name": "Python 3",
   "language": "python",
   "name": "python3"
  },
  "language_info": {
   "codemirror_mode": {
    "name": "ipython",
    "version": 3
   },
   "file_extension": ".py",
   "mimetype": "text/x-python",
   "name": "python",
   "nbconvert_exporter": "python",
   "pygments_lexer": "ipython3",
   "version": "3.9.0"
  },
  "toc": {
   "base_numbering": 1,
   "nav_menu": {},
   "number_sections": true,
   "sideBar": true,
   "skip_h1_title": false,
   "title_cell": "Table of Contents",
   "title_sidebar": "Contents",
   "toc_cell": false,
   "toc_position": {},
   "toc_section_display": true,
   "toc_window_display": false
  },
  "varInspector": {
   "cols": {
    "lenName": 16,
    "lenType": 16,
    "lenVar": 40
   },
   "kernels_config": {
    "python": {
     "delete_cmd_postfix": "",
     "delete_cmd_prefix": "del ",
     "library": "var_list.py",
     "varRefreshCmd": "print(var_dic_list())"
    },
    "r": {
     "delete_cmd_postfix": ") ",
     "delete_cmd_prefix": "rm(",
     "library": "var_list.r",
     "varRefreshCmd": "cat(var_dic_list()) "
    }
   },
   "types_to_exclude": [
    "module",
    "function",
    "builtin_function_or_method",
    "instance",
    "_Feature"
   ],
   "window_display": false
  }
 },
 "nbformat": 4,
 "nbformat_minor": 4
}
